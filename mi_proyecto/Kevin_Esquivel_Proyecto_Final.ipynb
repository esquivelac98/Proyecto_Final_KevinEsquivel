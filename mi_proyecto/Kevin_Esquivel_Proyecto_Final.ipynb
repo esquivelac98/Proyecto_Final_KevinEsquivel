{
  "cells": [
    {
      "cell_type": "markdown",
      "id": "a62202dd",
      "metadata": {
        "id": "a62202dd"
      },
      "source": [
        "# Estudio de emisiones de Dioxido de Carbono"
      ]
    },
    {
      "cell_type": "markdown",
      "id": "8026dfad",
      "metadata": {},
      "source": [
        "## Estudiante: Kevin Esquivel Acuña"
      ]
    },
    {
      "cell_type": "markdown",
      "id": "98d6cc2c",
      "metadata": {
        "id": "98d6cc2c"
      },
      "source": [
        "## Objetivo"
      ]
    },
    {
      "cell_type": "markdown",
      "id": "f6e5f5ed",
      "metadata": {
        "id": "f6e5f5ed"
      },
      "source": [
        "Cargar un archivo 'Carbon_Dioxide_Emission_Estimates.csv' responder las siguientes preguntas"
      ]
    },
    {
      "cell_type": "markdown",
      "id": "e21e6b1c",
      "metadata": {
        "id": "e21e6b1c"
      },
      "source": [
        "## Contexto\n"
      ]
    },
    {
      "cell_type": "markdown",
      "id": "c4c7df65",
      "metadata": {
        "id": "c4c7df65"
      },
      "source": [
        "Se tiene un set de datos contenido en un archivo del tipo csv.\n",
        "\n",
        "El archivo es 'Carbon_Dioxide_Emission_Estimates.csv'.\n",
        "\n",
        "A continuación se presenta el paso cero para leer del archivo que contiene 2 tipos de filas según sea el valor en la columna 'Type':\n",
        "\n",
        "- Emissions_thousand__metric_tons_of_carbon_dioxide\n",
        "- Emissions_per_capita__metric_tons_of_carbon_dioxide\n",
        "\n",
        "El valor de las emisiones están en medidas de Toneladas métricas de Dióxido de Carbono"
      ]
    },
    {
      "cell_type": "markdown",
      "id": "352UFM-aEWCT",
      "metadata": {
        "id": "352UFM-aEWCT"
      },
      "source": [
        "# Pregunta 0\n",
        "\n",
        "1. Crear un dataframe con el nombre de variable 'df_emisions_co2' usando únicamente las filas cuya columna 'Type' tiene el valor 'Emissions (thousand metric tons of carbon dioxide)'\n",
        "\n",
        "2. Crear un dataframe con el nombre de variable 'df_emisions_co2_per_capita' usando únicamente las filas cuya columna 'Type' tiene el valor Emissions per capita (metric tons of carbon dioxide)"
      ]
    },
    {
      "cell_type": "code",
      "execution_count": 1,
      "id": "eb3ed170",
      "metadata": {},
      "outputs": [],
      "source": [
        "import pandas as pd\n",
        "\n",
        "## Lectura del archivo csv 'Carbon_Dioxide_Emission_Estimates'\n",
        "df = pd.read_csv('Carbon_Dioxide_Emission_Estimates.csv')\n",
        "#print(df)\n",
        "\n",
        "## Creación del dataframe 'df_emisions_co2'\n",
        "df_emissions_co2 = df[df['Type'] == 'Emissions (thousand metric tons of carbon dioxide)'].copy()\n",
        "#print(df_emissions_co2)\n",
        "\n",
        "## Creación del dataframe 'df_emisions_co2_per_capita'\n",
        "df_emissions_co2_per_capita = df[df['Type'] == \"Emissions per capita (metric tons of carbon dioxide)\"].copy()\n",
        "#print(df_emissions_co2_per_capita)"
      ]
    },
    {
      "cell_type": "markdown",
      "id": "d6bd6661",
      "metadata": {
        "id": "d6bd6661"
      },
      "source": [
        "# Pregunta 1"
      ]
    },
    {
      "cell_type": "markdown",
      "id": "3299b6b5",
      "metadata": {
        "id": "3299b6b5"
      },
      "source": [
        "Cuántas filas tiene el dataframe 'df_emisions_co2'?"
      ]
    },
    {
      "cell_type": "code",
      "execution_count": 2,
      "id": "f02d60cc",
      "metadata": {
        "id": "f02d60cc"
      },
      "outputs": [
        {
          "name": "stdout",
          "output_type": "stream",
          "text": [
            "El dataframe \"df_emissions_co2\" tiene 1066 filas.\n"
          ]
        }
      ],
      "source": [
        "# Coloque el código que responda a la pregunta aqui\n",
        "\n",
        "count_rows = len(df_emissions_co2)\n",
        "\n",
        "print(f'El dataframe \"df_emissions_co2\" tiene {count_rows} filas.')"
      ]
    },
    {
      "cell_type": "markdown",
      "id": "880f891d",
      "metadata": {
        "id": "880f891d"
      },
      "source": [
        "# Pregunta 2"
      ]
    },
    {
      "cell_type": "markdown",
      "id": "34700c9d",
      "metadata": {
        "id": "34700c9d"
      },
      "source": [
        "Cuál en el valor más alto de emisiones (en general) usando el dataframe 'df_emisions_co2'?"
      ]
    },
    {
      "cell_type": "code",
      "execution_count": 3,
      "id": "24bdf93a",
      "metadata": {
        "id": "24bdf93a"
      },
      "outputs": [
        {
          "name": "stdout",
          "output_type": "stream",
          "text": [
            "El valor más alto de emisiones en el dataframe \"df_emissions_co2\" es: 9,257,933.9 miles TM de CO₂.\n"
          ]
        }
      ],
      "source": [
        "# Coloque el código que responda a la pregunta aqui exactamente lo que se pregunta\n",
        "\n",
        "max_emisiones = df_emissions_co2['Value'].max().round(2)\n",
        "\n",
        "print(f'El valor más alto de emisiones en el dataframe \"df_emissions_co2\" es: {max_emisiones:,} miles TM de CO₂.')"
      ]
    },
    {
      "cell_type": "markdown",
      "id": "7ebd3621",
      "metadata": {
        "id": "7ebd3621"
      },
      "source": [
        "# Pregunta 3"
      ]
    },
    {
      "cell_type": "markdown",
      "id": "eb81f1c8",
      "metadata": {
        "id": "eb81f1c8"
      },
      "source": [
        "Cuántos países (Countries) hay en el dataframe 'df_emisions_co2'?"
      ]
    },
    {
      "cell_type": "code",
      "execution_count": 4,
      "id": "4f60454b",
      "metadata": {
        "id": "4f60454b"
      },
      "outputs": [
        {
          "name": "stdout",
          "output_type": "stream",
          "text": [
            "El dataframe \"df_emissions_co2\" tiene 142 países.\n"
          ]
        }
      ],
      "source": [
        "# Coloque el código que responda a la pregunta aqui exactamente lo que se pregunta\n",
        "\n",
        "countdist_countries = df_emissions_co2.groupby('Country').size().count()\n",
        "\n",
        "print(f'El dataframe \"df_emissions_co2\" tiene {countdist_countries} países.')"
      ]
    },
    {
      "cell_type": "code",
      "execution_count": 5,
      "id": "2f46faa0",
      "metadata": {
        "id": "2f46faa0"
      },
      "outputs": [
        {
          "name": "stdout",
          "output_type": "stream",
          "text": [
            "Listado de países existentes en el dataframe \"df_emissions_co2\":\n",
            "\n",
            "['Albania' 'Algeria' 'Angola' 'Argentina' 'Armenia' 'Australia' 'Austria'\n",
            " 'Azerbaijan' 'Bahrain' 'Bangladesh' 'Belarus' 'Belgium' 'Benin'\n",
            " 'Bolivia (Plurin. State of)' 'Bosnia and Herzegovina' 'Botswana' 'Brazil'\n",
            " 'Brunei Darussalam' 'Bulgaria' 'Cambodia' 'Cameroon' 'Canada' 'Chile'\n",
            " 'China' 'China, Hong Kong SAR' 'Colombia' 'Congo' 'Costa Rica'\n",
            " 'Côte d’Ivoire' 'Croatia' 'Cuba' 'Curaçao' 'Cyprus' 'Czechia'\n",
            " \"Dem. People's Rep. Korea\" 'Dem. Rep. of the Congo' 'Denmark'\n",
            " 'Dominican Republic' 'Ecuador' 'Egypt' 'El Salvador' 'Eritrea' 'Estonia'\n",
            " 'Ethiopia' 'Finland' 'France' 'Gabon' 'Georgia' 'Germany' 'Ghana'\n",
            " 'Gibraltar' 'Greece' 'Guatemala' 'Haiti' 'Honduras' 'Hungary' 'Iceland'\n",
            " 'India' 'Indonesia' 'Iran (Islamic Republic of)' 'Iraq' 'Ireland'\n",
            " 'Israel' 'Italy' 'Jamaica' 'Japan' 'Jordan' 'Kazakhstan' 'Kenya' 'Kosovo'\n",
            " 'Kuwait' 'Kyrgyzstan' 'Latvia' 'Lebanon' 'Libya' 'Lithuania' 'Luxembourg'\n",
            " 'Malaysia' 'Malta' 'Mauritius' 'Mexico' 'Mongolia' 'Montenegro' 'Morocco'\n",
            " 'Mozambique' 'Myanmar' 'Namibia' 'Nepal' 'Netherlands' 'New Zealand'\n",
            " 'Nicaragua' 'Niger' 'Nigeria' 'Norway' 'Oman' 'Pakistan' 'Panama'\n",
            " 'Paraguay' 'Peru' 'Philippines' 'Poland' 'Portugal' 'Qatar'\n",
            " 'Republic of Korea' 'Republic of Moldova' 'Romania' 'Russian Federation'\n",
            " 'Saudi Arabia' 'Senegal' 'Serbia' 'Singapore' 'Slovakia' 'Slovenia'\n",
            " 'South Africa' 'South Sudan' 'Spain' 'Sri Lanka' 'Sudan' 'Suriname'\n",
            " 'Sweden' 'Switzerland' 'Syrian Arab Republic' 'Tajikistan' 'Thailand'\n",
            " 'North Macedonia' 'Togo' 'Trinidad and Tobago' 'Tunisia' 'Turkey'\n",
            " 'Turkmenistan' 'Ukraine' 'United Arab Emirates' 'United Kingdom'\n",
            " 'United Rep. of Tanzania' 'United States of America' 'Uruguay'\n",
            " 'Uzbekistan' 'Venezuela (Boliv. Rep. of)' 'Viet Nam' 'Yemen' 'Zambia'\n",
            " 'Zimbabwe']\n"
          ]
        }
      ],
      "source": [
        "#Imprima un lista con todos los paises\n",
        "\n",
        "list_countries = df['Country'].unique()\n",
        "\n",
        "print(f'Listado de países existentes en el dataframe \"df_emissions_co2\":\\n\\n{list_countries}')"
      ]
    },
    {
      "cell_type": "markdown",
      "id": "1e40352a",
      "metadata": {
        "id": "1e40352a"
      },
      "source": [
        "# Pregunta 4"
      ]
    },
    {
      "cell_type": "markdown",
      "id": "80c46908",
      "metadata": {
        "id": "80c46908"
      },
      "source": [
        "Cuál es el país que tiene mayor emisiones usando el dataframe 'df_emisions_co2'?"
      ]
    },
    {
      "cell_type": "code",
      "execution_count": 6,
      "id": "e6df7d42",
      "metadata": {
        "id": "e6df7d42"
      },
      "outputs": [
        {
          "name": "stdout",
          "output_type": "stream",
          "text": [
            "El país con mayor emisión es China con 9,257,933.9 miles TM de CO₂.\n"
          ]
        }
      ],
      "source": [
        "# Coloque el código que responda a la pregunta aqui exactamente lo que se pregunta\n",
        "\n",
        "max_rows_emisiones = df_emissions_co2.loc[df_emissions_co2['Value'].idxmax()]\n",
        "\n",
        "# Para obtener el país, basado en max_rows_emisiones\n",
        "max_country = max_rows_emisiones['Country']\n",
        "\n",
        "# Se utiliza la variable creada anteriormente para obtener el máximo llamada 'max_emisiones'\n",
        "print(f\"El país con mayor emisión es {max_country} con {max_emisiones:,} miles TM de CO₂.\")"
      ]
    },
    {
      "cell_type": "markdown",
      "id": "26c97fde",
      "metadata": {
        "id": "26c97fde"
      },
      "source": [
        "# Pregunta 5"
      ]
    },
    {
      "cell_type": "markdown",
      "id": "541f44ca",
      "metadata": {
        "id": "541f44ca"
      },
      "source": [
        "Cuál es el año que tiene mayor emisiones para el país de Spain usando el dataframe 'df_emisions_co2'?"
      ]
    },
    {
      "cell_type": "code",
      "execution_count": 7,
      "id": "c32f62d1",
      "metadata": {
        "id": "c32f62d1"
      },
      "outputs": [
        {
          "name": "stdout",
          "output_type": "stream",
          "text": [
            "El año con las mayores emisiones de CO₂ en España es 2005 con 333,710.1 miles TM de CO₂.\n"
          ]
        }
      ],
      "source": [
        "# Crear un nuevo dataframe para filtrar solo el país 'Spain'\n",
        "df_spain = df_emissions_co2[df_emissions_co2['Country'] == 'Spain']\n",
        "\n",
        "# Obtener el valor máximo en el país 'Spain'\n",
        "max_emisiones_spain = df_spain.loc[df_spain['Value'].idxmax()]\n",
        "\n",
        "# Obtener el año y el valor máximo de emisiones en el país 'Spain'\n",
        "max_year_emisiones = max_emisiones_spain['Year']\n",
        "max_value_emisiones = max_emisiones_spain['Value'].round(2)\n",
        "\n",
        "# Imprimir el resultado\n",
        "print(f\"El año con las mayores emisiones de CO₂ en España es {max_year_emisiones} con {max_value_emisiones:,} miles TM de CO₂.\")"
      ]
    },
    {
      "cell_type": "markdown",
      "id": "55ce4564",
      "metadata": {
        "id": "55ce4564"
      },
      "source": [
        "# Pregunta 6"
      ]
    },
    {
      "cell_type": "markdown",
      "id": "3473e4f2",
      "metadata": {
        "id": "3473e4f2"
      },
      "source": [
        "Cuáles son los años que se tiene registros para el dataframe 'df_emisions_co2_per_capita'?\n",
        "\n",
        "Entrege una lista con los años sin repetirse"
      ]
    },
    {
      "cell_type": "code",
      "execution_count": 8,
      "id": "5ad50924",
      "metadata": {
        "id": "5ad50924"
      },
      "outputs": [
        {
          "name": "stdout",
          "output_type": "stream",
          "text": [
            "Listado de años existentes en el dataframe \"df_emissions_co2_per_capita\":\n",
            "\n",
            "8     1975\n",
            "9     1985\n",
            "10    1995\n",
            "11    2005\n",
            "12    2010\n",
            "13    2015\n",
            "14    2016\n",
            "15    2017\n",
            "Name: Year, dtype: int64\n"
          ]
        }
      ],
      "source": [
        "# Coloque el código que responda a la pregunta aqui exactamente lo que se pregunta\n",
        "\n",
        "anios_unicos_ordenados = df_emissions_co2_per_capita['Year'].drop_duplicates().sort_values()\n",
        "\n",
        "print(f'Listado de años existentes en el dataframe \"df_emissions_co2_per_capita\":\\n\\n{anios_unicos_ordenados}')"
      ]
    },
    {
      "cell_type": "markdown",
      "id": "18fa522e",
      "metadata": {
        "id": "18fa522e"
      },
      "source": [
        "# Pregunta 7"
      ]
    },
    {
      "cell_type": "markdown",
      "id": "2747ce42",
      "metadata": {
        "id": "2747ce42"
      },
      "source": [
        "Cuántas son las emisiones en 'toneladas métricas' en total usando todos los países para usando el dataframe 'df_emisions_co2'?\n"
      ]
    },
    {
      "cell_type": "code",
      "execution_count": 9,
      "id": "e8cbd117",
      "metadata": {
        "id": "e8cbd117"
      },
      "outputs": [
        {
          "name": "stdout",
          "output_type": "stream",
          "text": [
            "El total de las emisiones de CO₂ en toneladas métricas es: 195,028,250,420.0 TM\n"
          ]
        }
      ],
      "source": [
        "# Coloque el código que responda a la pregunta aqui exactamente lo que se pregunta\n",
        "\n",
        "# Se suma y se multiplica por 1000, para realizar la conversión de miles TM a TM\n",
        "total_emisiones_tm = df_emissions_co2['Value'].sum().round(2) * 1000\n",
        "\n",
        "print(f\"El total de las emisiones de CO₂ en toneladas métricas es: {total_emisiones_tm:,} TM\")"
      ]
    },
    {
      "cell_type": "markdown",
      "id": "42aa86db",
      "metadata": {
        "id": "42aa86db"
      },
      "source": [
        "# Pregunta 8"
      ]
    },
    {
      "cell_type": "markdown",
      "id": "a303974d",
      "metadata": {
        "id": "a303974d"
      },
      "source": [
        "Cuántas son las emisiones en 'toneladas métricas' sólo para Albania usando el dataframe 'df_emisions_co2'?\n"
      ]
    },
    {
      "cell_type": "code",
      "execution_count": 10,
      "id": "181ab815",
      "metadata": {
        "id": "181ab815"
      },
      "outputs": [
        {
          "name": "stdout",
          "output_type": "stream",
          "text": [
            "El total de las emisiones de CO₂ en toneladas métricas para Albania es de: 32,713,280.0 TM\n"
          ]
        }
      ],
      "source": [
        "# Coloque el código que responda a la pregunta aqui exactamente lo que se pregunta\n",
        "\n",
        "# Crear un nuevo dataframe para filtrar solo el país 'Albania'\n",
        "df_albania = df_emissions_co2[df_emissions_co2['Country'] == 'Albania']\n",
        "\n",
        "# Se suma y se multiplica por 1000, para realizar la conversión de miles TM a TM\n",
        "total_emisiones_tm_albania = df_albania['Value'].sum().round(2) * 1000\n",
        "\n",
        "print(f\"El total de las emisiones de CO₂ en toneladas métricas para Albania es de: {total_emisiones_tm_albania:,} TM\")"
      ]
    },
    {
      "cell_type": "markdown",
      "id": "d084c9f3",
      "metadata": {
        "id": "d084c9f3"
      },
      "source": [
        "# Pregunta 9"
      ]
    },
    {
      "cell_type": "markdown",
      "id": "ae9cebff",
      "metadata": {
        "id": "ae9cebff"
      },
      "source": [
        "Cuántas son las emisiones en 'libras' sólo para Costa Rica usando el dataframe 'df_emisions_co2'?\n"
      ]
    },
    {
      "cell_type": "code",
      "execution_count": 11,
      "id": "ee97d492",
      "metadata": {
        "id": "ee97d492"
      },
      "outputs": [
        {
          "name": "stdout",
          "output_type": "stream",
          "text": [
            "Las emisiones totales de CO₂ en Costa Rica son 93,085,906,154.34 libras.\n"
          ]
        }
      ],
      "source": [
        "# Coloque el código que responda a la pregunta aqui exactamente lo que se pregunta\n",
        "\n",
        "# Crear un nuevo dataframe para filtrar solo el país 'Costa Rica'\n",
        "df_costarica = df_emissions_co2[df_emissions_co2['Country'] == 'Costa Rica']\n",
        "\n",
        "# Se convierten de miles de toneladas a libras\n",
        "total_emisiones_libras_costarica = ((df_costarica['Value'] * 1000) * 2204.62).sum().round(2)\n",
        "\n",
        "# Mostrar el resultado\n",
        "print(f\"Las emisiones totales de CO₂ en Costa Rica son {total_emisiones_libras_costarica:,} libras.\")\n"
      ]
    },
    {
      "cell_type": "markdown",
      "id": "eb6dfc54",
      "metadata": {
        "id": "eb6dfc54"
      },
      "source": [
        "# Pregunta 10"
      ]
    },
    {
      "cell_type": "markdown",
      "id": "5862817e",
      "metadata": {
        "id": "5862817e"
      },
      "source": [
        "Para sólo 'Costa Rica' y suponiendo que las emisiones se estancan a partir del último año reportado. Cuántas son las emisiones en 'Kg' sólo para Costa Rica en el año 2022 usando el dataframe 'df_emisions_co2'?\n"
      ]
    },
    {
      "cell_type": "code",
      "execution_count": 16,
      "id": "76ed009c",
      "metadata": {
        "id": "76ed009c"
      },
      "outputs": [
        {
          "name": "stdout",
          "output_type": "stream",
          "text": [
            "¡Atención!\n",
            "Las emisiones de CO2 en Costa Rica en el año 2022 fueron de 0 kg, ya que el año no existe en el dataframe.\n",
            "\n",
            "Nota:\n",
            "El último año existente en el dataframe es el año 2017 y las emisiones de CO2 fueron de 7,584,411,000.0 kg.\n"
          ]
        }
      ],
      "source": [
        "# Se solicita al usuario el año que desea consultar\n",
        "anio_usuario = int(input('Por favor ingrese el año que desea consultar: '))\n",
        "\n",
        "# Se verifica si hay datos para el año ingresado por el usuario\n",
        "if anio_usuario in df_costarica['Year'].values:\n",
        "    emisiones_usuario_kg = (df_costarica[df_costarica['Year'] == anio_usuario]['Value'].iloc[0] * 1000000).round(2) # Para convertir de miles de toneladas a kilos\n",
        "    print(f'Las emisiones de CO2 en Costa Rica en el año {anio_usuario} fueron de {emisiones_usuario_kg:,} kg.')\n",
        "else:\n",
        "    emisiones_usuario_kg_incorrecto = 0\n",
        "    # Obtener el último año existente en el dataframe\n",
        "    ultimo_anio = df_costarica['Year'].max()\n",
        "    \n",
        "    # Calcular las emisiones para el último año disponible\n",
        "    emisiones_usuario_kg_correcto = (df_costarica[df_costarica['Year'] == ultimo_anio]['Value'].iloc[0] * 1000000).round(2)\n",
        "    \n",
        "    print(f'¡Atención!\\nLas emisiones de CO2 en Costa Rica en el año {anio_usuario} fueron de {emisiones_usuario_kg_incorrecto:,} kg, ya que el año no existe en el dataframe.')\n",
        "    print(f'\\nNota:\\nEl último año existente en el dataframe es el año {ultimo_anio} y las emisiones de CO2 fueron de {emisiones_usuario_kg_correcto:,} kg.')"
      ]
    },
    {
      "cell_type": "markdown",
      "id": "1c18874b",
      "metadata": {
        "id": "1c18874b"
      },
      "source": [
        "# Pregunta 12"
      ]
    },
    {
      "cell_type": "markdown",
      "id": "6a487c43",
      "metadata": {
        "id": "6a487c43"
      },
      "source": [
        "Para sólo los países de Centroamérica ['El Salvador', 'Honduras', 'Guatemala', 'Costa Rica', 'Nicaragua'] obtener un reporte por año de las emisiones totales en Centroamérica usando el dataframe 'df_emisions_co2'?\n",
        "Se espera un dataframe de 2 columnas: 'Year' y 'total_por_año'"
      ]
    },
    {
      "cell_type": "code",
      "execution_count": 13,
      "id": "1d0426bf",
      "metadata": {
        "id": "1d0426bf"
      },
      "outputs": [
        {
          "name": "stdout",
          "output_type": "stream",
          "text": [
            "   Year  Total Año\n",
            "0  1975    9860.97\n",
            "1  1985   10250.33\n",
            "2  1995   20960.23\n",
            "3  2005   33562.29\n",
            "4  2010   34533.56\n",
            "5  2015   43107.38\n",
            "6  2016   44366.07\n",
            "7  2017   43556.26\n"
          ]
        }
      ],
      "source": [
        "# Coloque el código que responda a la pregunta aqui exactamente lo que se pregunta\n",
        "\n",
        "# Listado de países de Centroamérica\n",
        "paises_centroamerica = ['El Salvador', 'Honduras', 'Guatemala', 'Costa Rica', 'Nicaragua']\n",
        "\n",
        "# Filtrar el dataframe solo con los países de la lista 'paises_centroamerica'\n",
        "df_centroamerica = df_emissions_co2[df_emissions_co2['Country'].isin(paises_centroamerica)]\n",
        "\n",
        "# Se usa el .reset_index() para restablecer el índice en el dataframe ya que se hizo una agrupación\n",
        "df_total_por_anio = df_centroamerica.groupby('Year')['Value'].sum().round(2).reset_index()\n",
        "\n",
        "# Se renombra la columna 'Value' por 'Total por año' para mejor entendimiento del usuario\n",
        "df_total_por_anio.rename(columns={'Value': 'Total Año'}, inplace=True)\n",
        "\n",
        "print(df_total_por_anio)\n"
      ]
    },
    {
      "cell_type": "markdown",
      "id": "8fdaae3d",
      "metadata": {
        "id": "8fdaae3d"
      },
      "source": [
        "# Pregunta 13"
      ]
    },
    {
      "cell_type": "markdown",
      "id": "8a7e17ff",
      "metadata": {
        "id": "8a7e17ff"
      },
      "source": [
        "Para sólo los países de Centroamérica ['El Salvador', 'Honduras', 'Guatemala', 'Costa Rica', 'Nicaragua'] obtener un reporte por año de las emisiones en promedio en Centroamérica usando el dataframe 'df_emisions_co2_per_capita'?\n",
        "Se espera un dataframe de 2 columnas: 'Year' y 'promedio_por_año'"
      ]
    },
    {
      "cell_type": "code",
      "execution_count": 14,
      "id": "4ec787f4",
      "metadata": {
        "id": "4ec787f4"
      },
      "outputs": [
        {
          "name": "stdout",
          "output_type": "stream",
          "text": [
            "   Year  Promedio Año\n",
            "0  1975          0.57\n",
            "1  1985          0.46\n",
            "2  1995          0.76\n",
            "3  2005          0.97\n",
            "4  2010          0.95\n",
            "5  2015          1.06\n",
            "6  2016          1.07\n",
            "7  2017          1.04\n"
          ]
        }
      ],
      "source": [
        "# Coloque el código que responda a la pregunta aqui exactamente lo que se pregunta\n",
        "\n",
        "# Filtrar el dataframe solo con los países de la lista 'paises_centroamerica'\n",
        "df_centroamerica_per = df_emissions_co2_per_capita[df_emissions_co2_per_capita['Country'].isin(paises_centroamerica)]\n",
        "\n",
        "# Se usa el .reset_index() para restablecer el índice en el dataframe ya que se hizo una agrupación\n",
        "df_promedio_por_anio = df_centroamerica_per.groupby('Year')['Value'].mean().round(2).reset_index()\n",
        "\n",
        "# Se renombra la columna 'Value' por 'Total por año' para mejor entendimiento del usuario\n",
        "df_promedio_por_anio.rename(columns={'Value': 'Promedio Año'}, inplace=True)\n",
        "\n",
        "print(df_promedio_por_anio)"
      ]
    },
    {
      "cell_type": "markdown",
      "id": "944ac865",
      "metadata": {
        "id": "944ac865"
      },
      "source": [
        "# Pregunta 14"
      ]
    },
    {
      "cell_type": "markdown",
      "id": "b961da55",
      "metadata": {
        "id": "b961da55"
      },
      "source": [
        "Cuál es el promedio de las emisiones per capita para el año 2005 usando el dataframe 'df_emisions_co2_per_capita'?\n"
      ]
    },
    {
      "cell_type": "code",
      "execution_count": 15,
      "id": "e2f0a786",
      "metadata": {
        "id": "e2f0a786"
      },
      "outputs": [
        {
          "name": "stdout",
          "output_type": "stream",
          "text": [
            "El promedio de las emisiones per cápita en el año 2005 es de 5.3 toneladas métricas de CO₂.\n"
          ]
        }
      ],
      "source": [
        "# Coloque el código que responda a la pregunta aqui exactamente lo que se pregunta\n",
        "\n",
        "# Filtrar el dataframe para mostrar solo datos del 2005\n",
        "df_2005 = df_emissions_co2_per_capita[df_emissions_co2_per_capita['Year'] == 2005]\n",
        "\n",
        "promedio_per_2005 = df_2005['Value'].mean().round(2)\n",
        "\n",
        "print(f\"El promedio de las emisiones per cápita en el año 2005 es de {promedio_per_2005} toneladas métricas de CO₂.\")\n"
      ]
    }
  ],
  "metadata": {
    "colab": {
      "provenance": []
    },
    "kernelspec": {
      "display_name": "Python 3",
      "language": "python",
      "name": "python3"
    },
    "language_info": {
      "codemirror_mode": {
        "name": "ipython",
        "version": 3
      },
      "file_extension": ".py",
      "mimetype": "text/x-python",
      "name": "python",
      "nbconvert_exporter": "python",
      "pygments_lexer": "ipython3",
      "version": "3.13.1"
    }
  },
  "nbformat": 4,
  "nbformat_minor": 5
}
